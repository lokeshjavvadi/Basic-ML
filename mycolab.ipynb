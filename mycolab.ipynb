{
  "nbformat": 4,
  "nbformat_minor": 0,
  "metadata": {
    "colab": {
      "name": "mycolab.ipynb",
      "provenance": [],
      "collapsed_sections": [],
      "authorship_tag": "ABX9TyPp4LYe0+/LLWNZBLrwzCB3",
      "include_colab_link": true
    },
    "kernelspec": {
      "name": "python3",
      "display_name": "Python 3"
    },
    "language_info": {
      "name": "python"
    }
  },
  "cells": [
    {
      "cell_type": "markdown",
      "metadata": {
        "id": "view-in-github",
        "colab_type": "text"
      },
      "source": [
        "<a href=\"https://colab.research.google.com/github/lokeshjavvadi/Basic-ML/blob/main/mycolab.ipynb\" target=\"_parent\"><img src=\"https://colab.research.google.com/assets/colab-badge.svg\" alt=\"Open In Colab\"/></a>"
      ]
    },
    {
      "cell_type": "markdown",
      "metadata": {
        "id": "u5npH2WpQZQN"
      },
      "source": [
        "**Python program for finding factorial:**"
      ]
    },
    {
      "cell_type": "code",
      "metadata": {
        "id": "GKSH1q_0QaYT"
      },
      "source": [
        "N = int(input(\"Enter a number: \"))    \n",
        "factorial = 1    \n",
        "if N < 0:    \n",
        "   print(\" Factorial does not exist for negative numbers\")    \n",
        "elif N == 0:    \n",
        "   print(\"The factorial of 0 is 1\")    \n",
        "else:    \n",
        "   for i in range(1,N+ 1):    \n",
        "       factorial = factorial*i    \n",
        "   print(\"The factorial of\",N,\"is\",factorial)"
      ],
      "execution_count": null,
      "outputs": []
    },
    {
      "cell_type": "markdown",
      "metadata": {
        "id": "WF9wcUofQfIw"
      },
      "source": [
        "The above program find the factorial of a number using python. when the user inputs a number, the above python program calculates the factorial. Here, the number whose factorial is to be found is stored in num, and we check if the number is negative, zero or positive using if...elif...else statement. If the number is positive, we use for loop and range() function to calculate the factorial"
      ]
    },
    {
      "cell_type": "markdown",
      "metadata": {
        "id": "4BeDN4q6QhuM"
      },
      "source": [
        "**Python Program to Swap Two Variables:**"
      ]
    },
    {
      "cell_type": "code",
      "metadata": {
        "id": "p100sWT4Qrwv"
      },
      "source": [
        "x = input('Enter value of x: ')\n",
        "y = input('Enter value of y: ')\n",
        "temp = x\n",
        "x = y\n",
        "y = temp\n",
        "\n",
        "print('The value of x after swapping: {}'.format(x))\n",
        "print('The value of y after swapping: {}'.format(y))"
      ],
      "execution_count": null,
      "outputs": []
    },
    {
      "cell_type": "markdown",
      "metadata": {
        "id": "NLoT3hDtQssg"
      },
      "source": [
        "With the help of above program we can swap two variables using python. In this program, we use the temp variable to hold the value of x temporarily. We then put the value of y in x and later temp in y. In this way, the values get exchanged."
      ]
    },
    {
      "cell_type": "markdown",
      "metadata": {
        "id": "wNKWgH2tQ7O_"
      },
      "source": [
        "**Python program for finding sum of N natural numbers:**"
      ]
    },
    {
      "cell_type": "code",
      "metadata": {
        "id": "DTMKEgMVQ8LF"
      },
      "source": [
        "N = int(input())\n",
        "\n",
        "if N< 0:\n",
        "   print(\"Enter a positive number\")\n",
        "else:\n",
        "   sum = 0\n",
        "   # use while loop to iterate until zero\n",
        "   while(N > 0):\n",
        "       sum +=N \n",
        "       N -= 1\n",
        "   print(\"The sum is\", sum)"
      ],
      "execution_count": null,
      "outputs": []
    },
    {
      "cell_type": "markdown",
      "metadata": {
        "id": "niLxHothQ_5o"
      },
      "source": [
        "The above program is used to calculate the sum of N natural numbers.To test the program for a different number, change the value of N.\n",
        "Initially, the sum is initialized to 0. And, the number is stored in variable num.\n",
        "Then, we used the while loop to iterate until N becomes zero. In each iteration of the loop, we have added the N to sum and the value of N is decreased by 1."
      ]
    }
  ]
}